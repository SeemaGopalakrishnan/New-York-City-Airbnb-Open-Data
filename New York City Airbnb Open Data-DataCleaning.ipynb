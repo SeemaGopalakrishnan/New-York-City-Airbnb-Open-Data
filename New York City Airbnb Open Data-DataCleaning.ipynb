{
 "cells": [
  {
   "cell_type": "markdown",
   "id": "34f0079f-4717-456a-a597-ea5b55e44489",
   "metadata": {},
   "source": [
    "<h1>New York City Airbnb Open Data</h1>"
   ]
  },
  {
   "cell_type": "markdown",
   "id": "fc5b9e9e-abec-4416-b478-9656ef3aa8ed",
   "metadata": {},
   "source": [
    "<h4>Step 1.Download the dataset from Kaggle.<br><br>\n",
    "    Step 2.Data Cleaning and Processing using Python.<br><br>\n",
    "    Step 3.Load data to MySQL for Analysis.</h4>"
   ]
  },
  {
   "cell_type": "code",
   "execution_count": 6,
   "id": "b5df0a79-cbae-4cdd-a33a-06bd9f9dbe58",
   "metadata": {},
   "outputs": [
    {
     "name": "stdout",
     "output_type": "stream",
     "text": [
      "Warning: Your Kaggle API key is readable by other users on this system! To fix this, you can run 'chmod 600 /Users/pkv/.kaggle/kaggle.json'\n"
     ]
    }
   ],
   "source": [
    "#Import the Libraries\n",
    "import pandas as pd\n",
    "import kaggle\n",
    "import re\n",
    "from unidecode import unidecode\n",
    "from sqlalchemy import create_engine\n",
    "import pymysql"
   ]
  },
  {
   "cell_type": "code",
   "execution_count": 7,
   "id": "e31c0f54-0385-47b2-a08a-6d899421f021",
   "metadata": {},
   "outputs": [
    {
     "name": "stdout",
     "output_type": "stream",
     "text": [
      "Requirement already satisfied: pymysql in /opt/homebrew/anaconda3/lib/python3.12/site-packages (1.1.1)\n",
      "Note: you may need to restart the kernel to use updated packages.\n"
     ]
    }
   ],
   "source": [
    "pip install pymysql"
   ]
  },
  {
   "cell_type": "markdown",
   "id": "865de800-a374-4009-ac09-78c7b32c2782",
   "metadata": {},
   "source": [
    "<h2>Step 1.Download the dataset from Kaggle.</h2>\n"
   ]
  },
  {
   "cell_type": "code",
   "execution_count": 9,
   "id": "d24514c9-8385-43ce-8977-3f2e15abe708",
   "metadata": {},
   "outputs": [
    {
     "name": "stdout",
     "output_type": "stream",
     "text": [
      "Requirement already satisfied: kaggle in /opt/homebrew/anaconda3/lib/python3.12/site-packages (1.7.4.2)\n",
      "Requirement already satisfied: bleach in /opt/homebrew/anaconda3/lib/python3.12/site-packages (from kaggle) (4.1.0)\n",
      "Requirement already satisfied: certifi>=14.05.14 in /opt/homebrew/anaconda3/lib/python3.12/site-packages (from kaggle) (2025.1.31)\n",
      "Requirement already satisfied: charset-normalizer in /opt/homebrew/anaconda3/lib/python3.12/site-packages (from kaggle) (3.3.2)\n",
      "Requirement already satisfied: idna in /opt/homebrew/anaconda3/lib/python3.12/site-packages (from kaggle) (2.10)\n",
      "Requirement already satisfied: protobuf in /opt/homebrew/anaconda3/lib/python3.12/site-packages (from kaggle) (4.25.3)\n",
      "Requirement already satisfied: python-dateutil>=2.5.3 in /opt/homebrew/anaconda3/lib/python3.12/site-packages (from kaggle) (2.9.0.post0)\n",
      "Requirement already satisfied: python-slugify in /opt/homebrew/anaconda3/lib/python3.12/site-packages (from kaggle) (5.0.2)\n",
      "Requirement already satisfied: requests in /opt/homebrew/anaconda3/lib/python3.12/site-packages (from kaggle) (2.32.3)\n",
      "Requirement already satisfied: setuptools>=21.0.0 in /opt/homebrew/anaconda3/lib/python3.12/site-packages (from kaggle) (75.1.0)\n",
      "Requirement already satisfied: six>=1.10 in /opt/homebrew/anaconda3/lib/python3.12/site-packages (from kaggle) (1.16.0)\n",
      "Requirement already satisfied: text-unidecode in /opt/homebrew/anaconda3/lib/python3.12/site-packages (from kaggle) (1.3)\n",
      "Requirement already satisfied: tqdm in /opt/homebrew/anaconda3/lib/python3.12/site-packages (from kaggle) (4.66.5)\n",
      "Requirement already satisfied: urllib3>=1.15.1 in /opt/homebrew/anaconda3/lib/python3.12/site-packages (from kaggle) (2.2.3)\n",
      "Requirement already satisfied: webencodings in /opt/homebrew/anaconda3/lib/python3.12/site-packages (from kaggle) (0.5.1)\n",
      "Requirement already satisfied: packaging in /opt/homebrew/anaconda3/lib/python3.12/site-packages (from bleach->kaggle) (24.1)\n"
     ]
    }
   ],
   "source": [
    "!pip install kaggle"
   ]
  },
  {
   "cell_type": "code",
   "execution_count": 10,
   "id": "b3288d0b-d4d0-46dd-a4ad-c5d88aa655ba",
   "metadata": {},
   "outputs": [
    {
     "name": "stdout",
     "output_type": "stream",
     "text": [
      "Warning: Your Kaggle API key is readable by other users on this system! To fix this, you can run 'chmod 600 /Users/pkv/.kaggle/kaggle.json'\n",
      "Dataset URL: https://www.kaggle.com/datasets/dgomonov/new-york-city-airbnb-open-data\n",
      "License(s): CC0-1.0\n",
      "new-york-city-airbnb-open-data.zip: Skipping, found more recently modified local copy (use --force to force download)\n"
     ]
    }
   ],
   "source": [
    "#download dataset using kaggle agpi\n",
    "!kaggle datasets download dgomonov/new-york-city-airbnb-open-data\n"
   ]
  },
  {
   "cell_type": "code",
   "execution_count": 11,
   "id": "c6e531a6-5245-4975-9685-cf9003e1cf6c",
   "metadata": {},
   "outputs": [],
   "source": [
    "#extract file from zip file\n",
    "import zipfile\n",
    "zip_ref = zipfile.ZipFile('new-york-city-airbnb-open-data.zip') \n",
    "# extract file to dir\n",
    "zip_ref.extractall() \n",
    "# close file\n",
    "zip_ref.close()"
   ]
  },
  {
   "cell_type": "code",
   "execution_count": 12,
   "id": "e1e9418a-5bd4-4011-9642-6cdfb3bbfe01",
   "metadata": {},
   "outputs": [
    {
     "data": {
      "text/html": [
       "<div>\n",
       "<style scoped>\n",
       "    .dataframe tbody tr th:only-of-type {\n",
       "        vertical-align: middle;\n",
       "    }\n",
       "\n",
       "    .dataframe tbody tr th {\n",
       "        vertical-align: top;\n",
       "    }\n",
       "\n",
       "    .dataframe thead th {\n",
       "        text-align: right;\n",
       "    }\n",
       "</style>\n",
       "<table border=\"1\" class=\"dataframe\">\n",
       "  <thead>\n",
       "    <tr style=\"text-align: right;\">\n",
       "      <th></th>\n",
       "      <th>id</th>\n",
       "      <th>name</th>\n",
       "      <th>host_id</th>\n",
       "      <th>host_name</th>\n",
       "      <th>neighbourhood_group</th>\n",
       "      <th>neighbourhood</th>\n",
       "      <th>latitude</th>\n",
       "      <th>longitude</th>\n",
       "      <th>room_type</th>\n",
       "      <th>price</th>\n",
       "      <th>minimum_nights</th>\n",
       "      <th>number_of_reviews</th>\n",
       "      <th>last_review</th>\n",
       "      <th>reviews_per_month</th>\n",
       "      <th>calculated_host_listings_count</th>\n",
       "      <th>availability_365</th>\n",
       "    </tr>\n",
       "  </thead>\n",
       "  <tbody>\n",
       "    <tr>\n",
       "      <th>0</th>\n",
       "      <td>2539</td>\n",
       "      <td>Clean &amp; quiet apt home by the park</td>\n",
       "      <td>2787</td>\n",
       "      <td>John</td>\n",
       "      <td>Brooklyn</td>\n",
       "      <td>Kensington</td>\n",
       "      <td>40.64749</td>\n",
       "      <td>-73.97237</td>\n",
       "      <td>Private room</td>\n",
       "      <td>149</td>\n",
       "      <td>1</td>\n",
       "      <td>9</td>\n",
       "      <td>2018-10-19</td>\n",
       "      <td>0.21</td>\n",
       "      <td>6</td>\n",
       "      <td>365</td>\n",
       "    </tr>\n",
       "    <tr>\n",
       "      <th>1</th>\n",
       "      <td>2595</td>\n",
       "      <td>Skylit Midtown Castle</td>\n",
       "      <td>2845</td>\n",
       "      <td>Jennifer</td>\n",
       "      <td>Manhattan</td>\n",
       "      <td>Midtown</td>\n",
       "      <td>40.75362</td>\n",
       "      <td>-73.98377</td>\n",
       "      <td>Entire home/apt</td>\n",
       "      <td>225</td>\n",
       "      <td>1</td>\n",
       "      <td>45</td>\n",
       "      <td>2019-05-21</td>\n",
       "      <td>0.38</td>\n",
       "      <td>2</td>\n",
       "      <td>355</td>\n",
       "    </tr>\n",
       "    <tr>\n",
       "      <th>2</th>\n",
       "      <td>3647</td>\n",
       "      <td>THE VILLAGE OF HARLEM....NEW YORK !</td>\n",
       "      <td>4632</td>\n",
       "      <td>Elisabeth</td>\n",
       "      <td>Manhattan</td>\n",
       "      <td>Harlem</td>\n",
       "      <td>40.80902</td>\n",
       "      <td>-73.94190</td>\n",
       "      <td>Private room</td>\n",
       "      <td>150</td>\n",
       "      <td>3</td>\n",
       "      <td>0</td>\n",
       "      <td>NaN</td>\n",
       "      <td>NaN</td>\n",
       "      <td>1</td>\n",
       "      <td>365</td>\n",
       "    </tr>\n",
       "    <tr>\n",
       "      <th>3</th>\n",
       "      <td>3831</td>\n",
       "      <td>Cozy Entire Floor of Brownstone</td>\n",
       "      <td>4869</td>\n",
       "      <td>LisaRoxanne</td>\n",
       "      <td>Brooklyn</td>\n",
       "      <td>Clinton Hill</td>\n",
       "      <td>40.68514</td>\n",
       "      <td>-73.95976</td>\n",
       "      <td>Entire home/apt</td>\n",
       "      <td>89</td>\n",
       "      <td>1</td>\n",
       "      <td>270</td>\n",
       "      <td>2019-07-05</td>\n",
       "      <td>4.64</td>\n",
       "      <td>1</td>\n",
       "      <td>194</td>\n",
       "    </tr>\n",
       "    <tr>\n",
       "      <th>4</th>\n",
       "      <td>5022</td>\n",
       "      <td>Entire Apt: Spacious Studio/Loft by central park</td>\n",
       "      <td>7192</td>\n",
       "      <td>Laura</td>\n",
       "      <td>Manhattan</td>\n",
       "      <td>East Harlem</td>\n",
       "      <td>40.79851</td>\n",
       "      <td>-73.94399</td>\n",
       "      <td>Entire home/apt</td>\n",
       "      <td>80</td>\n",
       "      <td>10</td>\n",
       "      <td>9</td>\n",
       "      <td>2018-11-19</td>\n",
       "      <td>0.10</td>\n",
       "      <td>1</td>\n",
       "      <td>0</td>\n",
       "    </tr>\n",
       "  </tbody>\n",
       "</table>\n",
       "</div>"
      ],
      "text/plain": [
       "     id                                              name  host_id  \\\n",
       "0  2539                Clean & quiet apt home by the park     2787   \n",
       "1  2595                             Skylit Midtown Castle     2845   \n",
       "2  3647               THE VILLAGE OF HARLEM....NEW YORK !     4632   \n",
       "3  3831                   Cozy Entire Floor of Brownstone     4869   \n",
       "4  5022  Entire Apt: Spacious Studio/Loft by central park     7192   \n",
       "\n",
       "     host_name neighbourhood_group neighbourhood  latitude  longitude  \\\n",
       "0         John            Brooklyn    Kensington  40.64749  -73.97237   \n",
       "1     Jennifer           Manhattan       Midtown  40.75362  -73.98377   \n",
       "2    Elisabeth           Manhattan        Harlem  40.80902  -73.94190   \n",
       "3  LisaRoxanne            Brooklyn  Clinton Hill  40.68514  -73.95976   \n",
       "4        Laura           Manhattan   East Harlem  40.79851  -73.94399   \n",
       "\n",
       "         room_type  price  minimum_nights  number_of_reviews last_review  \\\n",
       "0     Private room    149               1                  9  2018-10-19   \n",
       "1  Entire home/apt    225               1                 45  2019-05-21   \n",
       "2     Private room    150               3                  0         NaN   \n",
       "3  Entire home/apt     89               1                270  2019-07-05   \n",
       "4  Entire home/apt     80              10                  9  2018-11-19   \n",
       "\n",
       "   reviews_per_month  calculated_host_listings_count  availability_365  \n",
       "0               0.21                               6               365  \n",
       "1               0.38                               2               355  \n",
       "2                NaN                               1               365  \n",
       "3               4.64                               1               194  \n",
       "4               0.10                               1                 0  "
      ]
     },
     "execution_count": 12,
     "metadata": {},
     "output_type": "execute_result"
    }
   ],
   "source": [
    "#Read the file to a dataframe\n",
    "airbnb_df=pd.read_csv(\"/Users/pkv/Desktop/Seema/kaggle/python_sql/New York City Airbnb Open Data/AB_NYC_2019.csv\")\n",
    "airbnb_df.head()"
   ]
  },
  {
   "cell_type": "code",
   "execution_count": 13,
   "id": "a4edb452-9ae6-4a31-ac55-40f3efdfb272",
   "metadata": {},
   "outputs": [
    {
     "data": {
      "text/plain": [
       "Index(['id', 'name', 'host_id', 'host_name', 'neighbourhood_group',\n",
       "       'neighbourhood', 'latitude', 'longitude', 'room_type', 'price',\n",
       "       'minimum_nights', 'number_of_reviews', 'last_review',\n",
       "       'reviews_per_month', 'calculated_host_listings_count',\n",
       "       'availability_365'],\n",
       "      dtype='object')"
      ]
     },
     "execution_count": 13,
     "metadata": {},
     "output_type": "execute_result"
    }
   ],
   "source": [
    "airbnb_df.columns"
   ]
  },
  {
   "cell_type": "code",
   "execution_count": 14,
   "id": "6b1af94d-51e4-4856-87fa-3b73a025ae40",
   "metadata": {},
   "outputs": [
    {
     "data": {
      "text/plain": [
       "(48895, 16)"
      ]
     },
     "execution_count": 14,
     "metadata": {},
     "output_type": "execute_result"
    }
   ],
   "source": [
    "airbnb_df.shape\n"
   ]
  },
  {
   "cell_type": "code",
   "execution_count": 15,
   "id": "095f911c-cd4e-4d7e-bee8-1d12c039d3c6",
   "metadata": {},
   "outputs": [
    {
     "name": "stdout",
     "output_type": "stream",
     "text": [
      "Records: 48895  & Columns:  16\n"
     ]
    }
   ],
   "source": [
    "print(\"Records:\",airbnb_df.shape[0],\" & Columns: \",airbnb_df.shape[1])"
   ]
  },
  {
   "cell_type": "code",
   "execution_count": 16,
   "id": "aa88aa0e-fe45-4103-90b7-5f923a70882f",
   "metadata": {},
   "outputs": [
    {
     "name": "stdout",
     "output_type": "stream",
     "text": [
      "<class 'pandas.core.frame.DataFrame'>\n",
      "RangeIndex: 48895 entries, 0 to 48894\n",
      "Data columns (total 16 columns):\n",
      " #   Column                          Non-Null Count  Dtype  \n",
      "---  ------                          --------------  -----  \n",
      " 0   id                              48895 non-null  int64  \n",
      " 1   name                            48879 non-null  object \n",
      " 2   host_id                         48895 non-null  int64  \n",
      " 3   host_name                       48874 non-null  object \n",
      " 4   neighbourhood_group             48895 non-null  object \n",
      " 5   neighbourhood                   48895 non-null  object \n",
      " 6   latitude                        48895 non-null  float64\n",
      " 7   longitude                       48895 non-null  float64\n",
      " 8   room_type                       48895 non-null  object \n",
      " 9   price                           48895 non-null  int64  \n",
      " 10  minimum_nights                  48895 non-null  int64  \n",
      " 11  number_of_reviews               48895 non-null  int64  \n",
      " 12  last_review                     38843 non-null  object \n",
      " 13  reviews_per_month               38843 non-null  float64\n",
      " 14  calculated_host_listings_count  48895 non-null  int64  \n",
      " 15  availability_365                48895 non-null  int64  \n",
      "dtypes: float64(3), int64(7), object(6)\n",
      "memory usage: 6.0+ MB\n"
     ]
    }
   ],
   "source": [
    "airbnb_df.info()"
   ]
  },
  {
   "cell_type": "markdown",
   "id": "e4f7a05e-5dea-4855-9037-0e3ae3f92389",
   "metadata": {},
   "source": [
    "<h2>Step 2.Data cleaning</h2>"
   ]
  },
  {
   "cell_type": "markdown",
   "id": "96cfc42e-4a04-404c-b58f-3e77e0488cc8",
   "metadata": {},
   "source": [
    "<h4>Checking for missing values in any columns of the dataframe</h4>"
   ]
  },
  {
   "cell_type": "code",
   "execution_count": 19,
   "id": "301572b8-97e3-4cb9-8509-ef08ac11df61",
   "metadata": {},
   "outputs": [
    {
     "data": {
      "text/plain": [
       "id                                    0\n",
       "name                                 16\n",
       "host_id                               0\n",
       "host_name                            21\n",
       "neighbourhood_group                   0\n",
       "neighbourhood                         0\n",
       "latitude                              0\n",
       "longitude                             0\n",
       "room_type                             0\n",
       "price                                 0\n",
       "minimum_nights                        0\n",
       "number_of_reviews                     0\n",
       "last_review                       10052\n",
       "reviews_per_month                 10052\n",
       "calculated_host_listings_count        0\n",
       "availability_365                      0\n",
       "dtype: int64"
      ]
     },
     "execution_count": 19,
     "metadata": {},
     "output_type": "execute_result"
    }
   ],
   "source": [
    "#Checking if any null values in any columns\n",
    "airbnb_df.isnull().sum()"
   ]
  },
  {
   "cell_type": "code",
   "execution_count": 20,
   "id": "d8e03ee8-65a2-4385-bb25-4e259a57c7ad",
   "metadata": {},
   "outputs": [
    {
     "data": {
      "text/plain": [
       "id                                 0.00\n",
       "name                               0.03\n",
       "host_id                            0.00\n",
       "host_name                          0.04\n",
       "neighbourhood_group                0.00\n",
       "neighbourhood                      0.00\n",
       "latitude                           0.00\n",
       "longitude                          0.00\n",
       "room_type                          0.00\n",
       "price                              0.00\n",
       "minimum_nights                     0.00\n",
       "number_of_reviews                  0.00\n",
       "last_review                       20.56\n",
       "reviews_per_month                 20.56\n",
       "calculated_host_listings_count     0.00\n",
       "availability_365                   0.00\n",
       "dtype: float64"
      ]
     },
     "execution_count": 20,
     "metadata": {},
     "output_type": "execute_result"
    }
   ],
   "source": [
    "#Taking the percenatge of null values\n",
    "round((airbnb_df.isnull().sum()/airbnb_df.shape[0])*100,2)"
   ]
  },
  {
   "cell_type": "markdown",
   "id": "248f3a64-95b6-42c8-8c61-c52279deed3a",
   "metadata": {},
   "source": [
    "<b>last_review & reviews_per_month </b> has  20.56% null value<br>\n",
    "<b>name</b> has 0.03%\n",
    "<b>host_name </b> has 0.04%"
   ]
  },
  {
   "cell_type": "code",
   "execution_count": 22,
   "id": "e07ccdab-2f5a-486e-afc5-80f965ebe518",
   "metadata": {},
   "outputs": [
    {
     "name": "stdout",
     "output_type": "stream",
     "text": [
      "<class 'pandas.core.frame.DataFrame'>\n",
      "RangeIndex: 48895 entries, 0 to 48894\n",
      "Data columns (total 16 columns):\n",
      " #   Column                          Non-Null Count  Dtype  \n",
      "---  ------                          --------------  -----  \n",
      " 0   id                              48895 non-null  int64  \n",
      " 1   name                            48879 non-null  object \n",
      " 2   host_id                         48895 non-null  int64  \n",
      " 3   host_name                       48874 non-null  object \n",
      " 4   neighbourhood_group             48895 non-null  object \n",
      " 5   neighbourhood                   48895 non-null  object \n",
      " 6   latitude                        48895 non-null  float64\n",
      " 7   longitude                       48895 non-null  float64\n",
      " 8   room_type                       48895 non-null  object \n",
      " 9   price                           48895 non-null  int64  \n",
      " 10  minimum_nights                  48895 non-null  int64  \n",
      " 11  number_of_reviews               48895 non-null  int64  \n",
      " 12  last_review                     38843 non-null  object \n",
      " 13  reviews_per_month               38843 non-null  float64\n",
      " 14  calculated_host_listings_count  48895 non-null  int64  \n",
      " 15  availability_365                48895 non-null  int64  \n",
      "dtypes: float64(3), int64(7), object(6)\n",
      "memory usage: 6.0+ MB\n"
     ]
    }
   ],
   "source": [
    "airbnb_df.info()"
   ]
  },
  {
   "cell_type": "code",
   "execution_count": 23,
   "id": "056cc474-9eca-44ab-a51b-c04d95e82ab5",
   "metadata": {},
   "outputs": [
    {
     "data": {
      "text/plain": [
       "0"
      ]
     },
     "execution_count": 23,
     "metadata": {},
     "output_type": "execute_result"
    }
   ],
   "source": [
    "#Check for Duplicates in the Entire DataFrame\n",
    "airbnb_df.duplicated().sum()"
   ]
  },
  {
   "cell_type": "markdown",
   "id": "262f89e5-233d-4391-8b35-78dcba89d432",
   "metadata": {},
   "source": [
    "<h4> There are no fully duplicated rows in the dataset.</h4>"
   ]
  },
  {
   "cell_type": "markdown",
   "id": "13f69d6a-0976-421b-916b-28f0be205932",
   "metadata": {},
   "source": [
    "<h4>Impute name and host_name with \"No Name Provided\"</h4>"
   ]
  },
  {
   "cell_type": "code",
   "execution_count": 26,
   "id": "d7571e36-fe11-4e2c-ab3a-fc8394058820",
   "metadata": {},
   "outputs": [],
   "source": [
    "#replace nan with \"No Name Provided\" both for name & host_name column\n",
    "airbnb_df.fillna({'name':\"No Name Provided\",'host_name':\"No Name Provided\"},inplace=True)"
   ]
  },
  {
   "cell_type": "code",
   "execution_count": 27,
   "id": "b3dcd9e9-864c-41d2-83cd-ec2454c9e213",
   "metadata": {},
   "outputs": [
    {
     "data": {
      "text/plain": [
       "16"
      ]
     },
     "execution_count": 27,
     "metadata": {},
     "output_type": "execute_result"
    }
   ],
   "source": [
    "len(airbnb_df[airbnb_df['name']==\"No Name Provided\"])"
   ]
  },
  {
   "cell_type": "code",
   "execution_count": 28,
   "id": "3a6e29e8-8a57-46cf-ae8b-a1979935dbda",
   "metadata": {},
   "outputs": [
    {
     "data": {
      "text/plain": [
       "21"
      ]
     },
     "execution_count": 28,
     "metadata": {},
     "output_type": "execute_result"
    }
   ],
   "source": [
    "len(airbnb_df[airbnb_df['host_name']==\"No Name Provided\"])"
   ]
  },
  {
   "cell_type": "code",
   "execution_count": 29,
   "id": "2cf1ee2a-b2a1-4c03-8f11-64f4a245f2c8",
   "metadata": {},
   "outputs": [
    {
     "data": {
      "text/plain": [
       "name         0\n",
       "host_name    0\n",
       "dtype: int64"
      ]
     },
     "execution_count": 29,
     "metadata": {},
     "output_type": "execute_result"
    }
   ],
   "source": [
    "airbnb_df[['name','host_name']].isnull().sum()"
   ]
  },
  {
   "cell_type": "markdown",
   "id": "7bb65028-510d-49f8-b90a-06b9b1e214d6",
   "metadata": {},
   "source": [
    "Output is 0 for both columns, it means there are no more missing values."
   ]
  },
  {
   "cell_type": "markdown",
   "id": "30f92b95-bd3a-4511-b51c-ccd17d9ee9e6",
   "metadata": {},
   "source": [
    "<h4>Impute reviews_per_month with 0 </h4>"
   ]
  },
  {
   "cell_type": "code",
   "execution_count": 32,
   "id": "454aa2b1-cf1f-4496-81e4-b41a3787e359",
   "metadata": {},
   "outputs": [
    {
     "name": "stderr",
     "output_type": "stream",
     "text": [
      "/var/folders/0n/jqw5d9gn2w9bfwy9mgh285r80000gn/T/ipykernel_67964/4235193524.py:1: FutureWarning: A value is trying to be set on a copy of a DataFrame or Series through chained assignment using an inplace method.\n",
      "The behavior will change in pandas 3.0. This inplace method will never work because the intermediate object on which we are setting values always behaves as a copy.\n",
      "\n",
      "For example, when doing 'df[col].method(value, inplace=True)', try using 'df.method({col: value}, inplace=True)' or df[col] = df[col].method(value) instead, to perform the operation inplace on the original object.\n",
      "\n",
      "\n",
      "  airbnb_df['reviews_per_month'].fillna(0,inplace=True)\n"
     ]
    }
   ],
   "source": [
    "airbnb_df['reviews_per_month'].fillna(0,inplace=True)"
   ]
  },
  {
   "cell_type": "code",
   "execution_count": 33,
   "id": "1501cf62-159a-4b82-a055-ed223631fb6d",
   "metadata": {},
   "outputs": [
    {
     "data": {
      "text/plain": [
       "reviews_per_month    0\n",
       "dtype: int64"
      ]
     },
     "execution_count": 33,
     "metadata": {},
     "output_type": "execute_result"
    }
   ],
   "source": [
    "airbnb_df[['reviews_per_month']].isnull().sum()"
   ]
  },
  {
   "cell_type": "markdown",
   "id": "83d05eb6-69c3-4899-b6af-e5f55b7b787b",
   "metadata": {},
   "source": [
    "No nan in reviews_per_month column"
   ]
  },
  {
   "cell_type": "markdown",
   "id": "a3bb2125-32a2-4d85-97de-6fbce9782fd7",
   "metadata": {},
   "source": [
    "<h4>Converting last_review  to date type and impute nan with 0</h4>"
   ]
  },
  {
   "cell_type": "code",
   "execution_count": 36,
   "id": "fd4ab789-b912-48d3-8b41-27bcf8cf0b95",
   "metadata": {},
   "outputs": [],
   "source": [
    "#convert last_review to date type\n",
    "airbnb_df['last_review'] = pd.to_datetime(airbnb_df['last_review'], errors='coerce')\n",
    "#replace nan with 0\n",
    "airbnb_df['last_review'] = airbnb_df['last_review'].fillna(0)"
   ]
  },
  {
   "cell_type": "code",
   "execution_count": 37,
   "id": "615523b4-a560-4ea7-9c77-1293194d2fa2",
   "metadata": {},
   "outputs": [
    {
     "data": {
      "text/plain": [
       "0"
      ]
     },
     "execution_count": 37,
     "metadata": {},
     "output_type": "execute_result"
    }
   ],
   "source": [
    "airbnb_df['last_review'].isnull().sum()"
   ]
  },
  {
   "cell_type": "markdown",
   "id": "d490c90b-558a-4c4f-829a-125bc9e68d3e",
   "metadata": {},
   "source": [
    "No nan in last_review column"
   ]
  },
  {
   "cell_type": "code",
   "execution_count": 39,
   "id": "d3dada36-ae1b-42c0-ac0e-4e7250658b9b",
   "metadata": {},
   "outputs": [
    {
     "data": {
      "text/plain": [
       "id                                0\n",
       "name                              0\n",
       "host_id                           0\n",
       "host_name                         0\n",
       "neighbourhood_group               0\n",
       "neighbourhood                     0\n",
       "latitude                          0\n",
       "longitude                         0\n",
       "room_type                         0\n",
       "price                             0\n",
       "minimum_nights                    0\n",
       "number_of_reviews                 0\n",
       "last_review                       0\n",
       "reviews_per_month                 0\n",
       "calculated_host_listings_count    0\n",
       "availability_365                  0\n",
       "dtype: int64"
      ]
     },
     "execution_count": 39,
     "metadata": {},
     "output_type": "execute_result"
    }
   ],
   "source": [
    "airbnb_df.isnull().sum()"
   ]
  },
  {
   "cell_type": "markdown",
   "id": "5d2b4629-1866-4495-8b01-1d79f8bc75df",
   "metadata": {},
   "source": [
    "<h4> No missing values in airbnb_df </h4>"
   ]
  },
  {
   "cell_type": "code",
   "execution_count": 41,
   "id": "a9178457-d357-4c12-b976-6d03978ad4df",
   "metadata": {},
   "outputs": [
    {
     "name": "stdout",
     "output_type": "stream",
     "text": [
      "<class 'pandas.core.frame.DataFrame'>\n",
      "RangeIndex: 48895 entries, 0 to 48894\n",
      "Data columns (total 16 columns):\n",
      " #   Column                          Non-Null Count  Dtype  \n",
      "---  ------                          --------------  -----  \n",
      " 0   id                              48895 non-null  int64  \n",
      " 1   name                            48895 non-null  object \n",
      " 2   host_id                         48895 non-null  int64  \n",
      " 3   host_name                       48895 non-null  object \n",
      " 4   neighbourhood_group             48895 non-null  object \n",
      " 5   neighbourhood                   48895 non-null  object \n",
      " 6   latitude                        48895 non-null  float64\n",
      " 7   longitude                       48895 non-null  float64\n",
      " 8   room_type                       48895 non-null  object \n",
      " 9   price                           48895 non-null  int64  \n",
      " 10  minimum_nights                  48895 non-null  int64  \n",
      " 11  number_of_reviews               48895 non-null  int64  \n",
      " 12  last_review                     48895 non-null  object \n",
      " 13  reviews_per_month               48895 non-null  float64\n",
      " 14  calculated_host_listings_count  48895 non-null  int64  \n",
      " 15  availability_365                48895 non-null  int64  \n",
      "dtypes: float64(3), int64(7), object(6)\n",
      "memory usage: 6.0+ MB\n"
     ]
    }
   ],
   "source": [
    "airbnb_df.info()"
   ]
  },
  {
   "cell_type": "markdown",
   "id": "83ee2dd1-7f11-49e6-a6cb-a07f11240cb4",
   "metadata": {},
   "source": [
    "last_review is converted to datetime64"
   ]
  },
  {
   "cell_type": "markdown",
   "id": "27f43820-12ab-4f97-8147-6b152c6a646b",
   "metadata": {},
   "source": [
    "<h3>Standardizing the \"Name\" Column: Converting Non-English Characters to English</h3>"
   ]
  },
  {
   "cell_type": "code",
   "execution_count": 44,
   "id": "bd3d8b09-1fdd-447b-a5cf-da912e4f8028",
   "metadata": {},
   "outputs": [
    {
     "name": "stdout",
     "output_type": "stream",
     "text": [
      "Rows with non-English characters: 1163\n"
     ]
    }
   ],
   "source": [
    "\n",
    "# Function to check if a string contains non-English (non-ASCII) characters\n",
    "def has_non_english(text):\n",
    "    return bool(re.search(r'[^\\x00-\\x7F]', str(text)))  # Matches any character outside ASCII range\n",
    "\n",
    "# Apply function to count rows with non-English characters\n",
    "non_english_rows = airbnb_df[airbnb_df['name'].apply(has_non_english)]\n",
    "\n",
    "# Print the count of affected rows\n",
    "print(f\"Rows with non-English characters: {len(non_english_rows)}\")"
   ]
  },
  {
   "cell_type": "code",
   "execution_count": 45,
   "id": "4fb87592-c3b6-45ca-a76c-cf7efd00d7cd",
   "metadata": {},
   "outputs": [
    {
     "name": "stdout",
     "output_type": "stream",
     "text": [
      "Name column having non english characters:\n",
      " 37224    \"Cabin\" —Private Queen Bedroom in Jungly Apart...\n",
      "31402    \"San-Paraíso\" 80s curated Retro 3 Bedroom LES Pad\n",
      "26630                                     #2,单间双人房,(共用卫生间)\n",
      "10969    $199 SPECIAL VERY QUIET WVILLGMTPKGCHLS 65”TV/...\n",
      "28923                                  (Room 102)法拉盛舒适轻奢套房\n",
      "                               ...                        \n",
      "36481                                     한성 韓城 Han B (2F)\n",
      "36681                                     한성 韓城 Han C (2F)\n",
      "25823     ️CENTRALLY LOCATED️- Great for Families + Groups\n",
      "27139                              ｳｨﾘｱﾑｽﾞﾊﾞｰｸﾞのかわいいお部屋です2\n",
      "47408         ﾏﾝﾊｯﾀﾝ､駅から徒歩4分でどこに行くのにも便利な場所!女性の方希望,ｷﾚｲなお部屋｡\n",
      "Name: name, Length: 1163, dtype: object\n"
     ]
    }
   ],
   "source": [
    "print(\"Name column having non english characters:\\n\",non_english_rows['name'].sort_values().head(1163))"
   ]
  },
  {
   "cell_type": "code",
   "execution_count": 46,
   "id": "7beabf8e-6f42-48c4-a167-739496b881c4",
   "metadata": {},
   "outputs": [],
   "source": [
    "#unidecode function  converts any non-English characters to their closest English equivalents.\n",
    "#name_translate column contains the English equivalent of the name with non-English characters converted.\n",
    "airbnb_df['name_translate'] = airbnb_df['name'].apply(lambda x: unidecode(str(x)))"
   ]
  },
  {
   "cell_type": "markdown",
   "id": "5cb5296b-4ddf-4ff8-8b8e-bf48821dabd7",
   "metadata": {},
   "source": [
    "Checking if any non english character is present in name column"
   ]
  },
  {
   "cell_type": "code",
   "execution_count": 48,
   "id": "de04f2e8-b7b3-4a33-8e79-d82d0899a754",
   "metadata": {},
   "outputs": [
    {
     "name": "stdout",
     "output_type": "stream",
     "text": [
      "Rows with non-English characters: 0\n"
     ]
    }
   ],
   "source": [
    "# Apply function to count rows with non-English characters\n",
    "non_english_rows = airbnb_df[airbnb_df['name_translate'].apply(has_non_english)]\n",
    "\n",
    "# Print the count of affected rows\n",
    "print(f\"Rows with non-English characters: {len(non_english_rows)}\")"
   ]
  },
  {
   "cell_type": "code",
   "execution_count": 49,
   "id": "d9de5503-bea2-4585-9541-23f2dc662df5",
   "metadata": {},
   "outputs": [
    {
     "data": {
      "text/html": [
       "<div>\n",
       "<style scoped>\n",
       "    .dataframe tbody tr th:only-of-type {\n",
       "        vertical-align: middle;\n",
       "    }\n",
       "\n",
       "    .dataframe tbody tr th {\n",
       "        vertical-align: top;\n",
       "    }\n",
       "\n",
       "    .dataframe thead th {\n",
       "        text-align: right;\n",
       "    }\n",
       "</style>\n",
       "<table border=\"1\" class=\"dataframe\">\n",
       "  <thead>\n",
       "    <tr style=\"text-align: right;\">\n",
       "      <th></th>\n",
       "      <th>name</th>\n",
       "      <th>name_translate</th>\n",
       "    </tr>\n",
       "  </thead>\n",
       "  <tbody>\n",
       "    <tr>\n",
       "      <th>47408</th>\n",
       "      <td>ﾏﾝﾊｯﾀﾝ､駅から徒歩4分でどこに行くのにも便利な場所!女性の方希望,ｷﾚｲなお部屋｡</td>\n",
       "      <td>manhatutan,Yi karaTu Bu 4Fen dedokoniXing kuno...</td>\n",
       "    </tr>\n",
       "    <tr>\n",
       "      <th>27139</th>\n",
       "      <td>ｳｨﾘｱﾑｽﾞﾊﾞｰｸﾞのかわいいお部屋です2</td>\n",
       "      <td>uiriamusu:ha:+ku:nokawaiioBu Wu desu2</td>\n",
       "    </tr>\n",
       "    <tr>\n",
       "      <th>25823</th>\n",
       "      <td>️CENTRALLY LOCATED️- Great for Families + Groups</td>\n",
       "      <td>CENTRALLY LOCATED- Great for Families + Groups</td>\n",
       "    </tr>\n",
       "    <tr>\n",
       "      <th>36681</th>\n",
       "      <td>한성 韓城 Han C (2F)</td>\n",
       "      <td>hanseong Han Cheng  Han C (2F)</td>\n",
       "    </tr>\n",
       "    <tr>\n",
       "      <th>36481</th>\n",
       "      <td>한성 韓城 Han B (2F)</td>\n",
       "      <td>hanseong Han Cheng  Han B (2F)</td>\n",
       "    </tr>\n",
       "    <tr>\n",
       "      <th>...</th>\n",
       "      <td>...</td>\n",
       "      <td>...</td>\n",
       "    </tr>\n",
       "    <tr>\n",
       "      <th>26297</th>\n",
       "      <td>汤姆公寓</td>\n",
       "      <td>Tang Mu Gong Yu</td>\n",
       "    </tr>\n",
       "    <tr>\n",
       "      <th>45355</th>\n",
       "      <td>步行9分钟到缅街中心的独立电梯房</td>\n",
       "      <td>Bu Xing 9Fen Zhong Dao Mian Jie Zhong Xin De D...</td>\n",
       "    </tr>\n",
       "    <tr>\n",
       "      <th>45359</th>\n",
       "      <td>步行9分钟到法拉盛缅街中心的电梯房,提供免费矿泉水可乐</td>\n",
       "      <td>Bu Xing 9Fen Zhong Dao Fa La Sheng Mian Jie Zh...</td>\n",
       "    </tr>\n",
       "    <tr>\n",
       "      <th>45461</th>\n",
       "      <td>步行9分钟到法拉盛缅街中心的电梯房,提供免费矿泉水可乐</td>\n",
       "      <td>Bu Xing 9Fen Zhong Dao Fa La Sheng Mian Jie Zh...</td>\n",
       "    </tr>\n",
       "    <tr>\n",
       "      <th>45413</th>\n",
       "      <td>步行9分钟到法拉盛缅街中心的电梯房,提供免费矿泉水可乐</td>\n",
       "      <td>Bu Xing 9Fen Zhong Dao Fa La Sheng Mian Jie Zh...</td>\n",
       "    </tr>\n",
       "  </tbody>\n",
       "</table>\n",
       "<p>100 rows × 2 columns</p>\n",
       "</div>"
      ],
      "text/plain": [
       "                                                   name  \\\n",
       "47408      ﾏﾝﾊｯﾀﾝ､駅から徒歩4分でどこに行くのにも便利な場所!女性の方希望,ｷﾚｲなお部屋｡   \n",
       "27139                           ｳｨﾘｱﾑｽﾞﾊﾞｰｸﾞのかわいいお部屋です2   \n",
       "25823  ️CENTRALLY LOCATED️- Great for Families + Groups   \n",
       "36681                                  한성 韓城 Han C (2F)   \n",
       "36481                                  한성 韓城 Han B (2F)   \n",
       "...                                                 ...   \n",
       "26297                                              汤姆公寓   \n",
       "45355                                  步行9分钟到缅街中心的独立电梯房   \n",
       "45359                       步行9分钟到法拉盛缅街中心的电梯房,提供免费矿泉水可乐   \n",
       "45461                       步行9分钟到法拉盛缅街中心的电梯房,提供免费矿泉水可乐   \n",
       "45413                       步行9分钟到法拉盛缅街中心的电梯房,提供免费矿泉水可乐   \n",
       "\n",
       "                                          name_translate  \n",
       "47408  manhatutan,Yi karaTu Bu 4Fen dedokoniXing kuno...  \n",
       "27139              uiriamusu:ha:+ku:nokawaiioBu Wu desu2  \n",
       "25823     CENTRALLY LOCATED- Great for Families + Groups  \n",
       "36681                     hanseong Han Cheng  Han C (2F)  \n",
       "36481                     hanseong Han Cheng  Han B (2F)  \n",
       "...                                                  ...  \n",
       "26297                                   Tang Mu Gong Yu   \n",
       "45355  Bu Xing 9Fen Zhong Dao Mian Jie Zhong Xin De D...  \n",
       "45359  Bu Xing 9Fen Zhong Dao Fa La Sheng Mian Jie Zh...  \n",
       "45461  Bu Xing 9Fen Zhong Dao Fa La Sheng Mian Jie Zh...  \n",
       "45413  Bu Xing 9Fen Zhong Dao Fa La Sheng Mian Jie Zh...  \n",
       "\n",
       "[100 rows x 2 columns]"
      ]
     },
     "execution_count": 49,
     "metadata": {},
     "output_type": "execute_result"
    }
   ],
   "source": [
    "airbnb_df[['name','name_translate']].sort_values(by='name',ascending=False).head(100)"
   ]
  },
  {
   "cell_type": "markdown",
   "id": "463861ed-dca3-49eb-b8f5-ee233619c327",
   "metadata": {},
   "source": [
    "<h4>Non-English characters in the name column were converted to their equivalent English characters in the name_translate column./b><h4>"
   ]
  },
  {
   "cell_type": "markdown",
   "id": "42bb2eba-4dd6-4898-be45-de18ac1a6a82",
   "metadata": {},
   "source": [
    "<h3>Checking 1-to-1 relationship between host_id and host_name </h3>"
   ]
  },
  {
   "cell_type": "code",
   "execution_count": 52,
   "id": "d5c180e5-19a6-44f0-9782-e1d890daaa14",
   "metadata": {},
   "outputs": [
    {
     "name": "stdout",
     "output_type": "stream",
     "text": [
      "host_id and host_name are not 1-to-1 mapped.\n",
      "host_name doesn't map to 1 host_name\n"
     ]
    }
   ],
   "source": [
    "#Check if each host_id is associated with exactly one host_name:\n",
    "host_id_mapping = airbnb_df.groupby('host_id')['host_name'].nunique()\n",
    "\n",
    "#Check if each host_name is associated with exactly one host_id:\n",
    "host_name_mapping = airbnb_df.groupby('host_name')['host_id'].nunique()\n",
    "\n",
    "is_host_id_1_to_1 = host_id_mapping.max() == 1  # True if all host_ids map to 1 host_name\n",
    "is_host_name_1_to_1 = host_name_mapping.max() == 1  # True if all host_names map to 1 host_id\n",
    "\n",
    "if is_host_id_1_to_1 and is_host_name_1_to_1:\n",
    "    print(\"host_id and host_name are 1-to-1 mapped.\")\n",
    "else:\n",
    "    print(\"host_id and host_name are not 1-to-1 mapped.\")\n",
    "    if(is_host_id_1_to_1== False):\n",
    "        print(\"host_id doesn't map to 1 host_name\")\n",
    "    if(is_host_name_1_to_1== False): \n",
    "        print(\"host_name doesn't map to 1 host_name\")"
   ]
  },
  {
   "cell_type": "code",
   "execution_count": 53,
   "id": "c8a9d7e5-0ba8-41f2-9106-7c086f6b3337",
   "metadata": {},
   "outputs": [
    {
     "name": "stdout",
     "output_type": "stream",
     "text": [
      "3126 records have more than one unique host_id\n",
      "\n",
      "host_name\n",
      "Michael    335\n",
      "David      318\n",
      "Alex       226\n",
      "Daniel     208\n",
      "Sarah      199\n",
      "          ... \n",
      "Mio          2\n",
      "Dipti        2\n",
      "Dirk         2\n",
      "Dj           2\n",
      "소정           2\n",
      "Name: host_id, Length: 3126, dtype: int64\n"
     ]
    }
   ],
   "source": [
    "# Find the host_names with more than one unique host_id\n",
    "non_unique_host_names = airbnb_df.groupby('host_name')['host_id'].nunique()\n",
    "non_unique_host_names = non_unique_host_names[non_unique_host_names > 1]\n",
    "\n",
    "# Show the host_names with multiple host_ids\n",
    "print(len(non_unique_host_names ),\"records have more than one unique host_id\\n\")\n",
    "print(non_unique_host_names.sort_values(ascending=False))"
   ]
  },
  {
   "cell_type": "code",
   "execution_count": 54,
   "id": "39f40321-0831-466a-87cf-97026d9933a7",
   "metadata": {},
   "outputs": [
    {
     "name": "stdout",
     "output_type": "stream",
     "text": [
      "There are  11453 unique host_name\n"
     ]
    }
   ],
   "source": [
    "print(\"There are \",airbnb_df['host_name'].nunique(),\"unique host_name\")"
   ]
  },
  {
   "cell_type": "code",
   "execution_count": 55,
   "id": "8bc08c47-fd16-4095-95f9-50af0c5d9a51",
   "metadata": {},
   "outputs": [
    {
     "data": {
      "text/plain": [
       "count       48895\n",
       "unique      11453\n",
       "top       Michael\n",
       "freq          417\n",
       "Name: host_name, dtype: object"
      ]
     },
     "execution_count": 55,
     "metadata": {},
     "output_type": "execute_result"
    }
   ],
   "source": [
    "airbnb_df['host_name'].describe()"
   ]
  },
  {
   "cell_type": "code",
   "execution_count": 56,
   "id": "7ebc98fa-d67d-4c89-b2ee-cfdd73235fcb",
   "metadata": {},
   "outputs": [
    {
     "name": "stdout",
     "output_type": "stream",
     "text": [
      "Total number of host_name entries: 48895\n"
     ]
    }
   ],
   "source": [
    "# Get the counts of all host_name values\n",
    "host_name_counts = airbnb_df['host_name'].value_counts()\n",
    "\n",
    "# Print the counts for each host_name\n",
    "#print(host_name_counts)\n",
    "\n",
    "# To get the total number of host_name entries\n",
    "total_host_names = host_name_counts.sum()\n",
    "print(f\"Total number of host_name entries: {total_host_names}\")"
   ]
  },
  {
   "cell_type": "code",
   "execution_count": 57,
   "id": "91cce79f-164d-449e-a0fa-53a2030d88e7",
   "metadata": {},
   "outputs": [
    {
     "name": "stdout",
     "output_type": "stream",
     "text": [
      "the total count of missing (NaN) values in the host_name column  0\n"
     ]
    }
   ],
   "source": [
    "print(\"the total count of missing (NaN) values in the host_name column \",airbnb_df['host_name'].isnull().sum())"
   ]
  },
  {
   "cell_type": "markdown",
   "id": "3d5be1fc-7f59-459a-9f2e-c96873e39c88",
   "metadata": {},
   "source": [
    "<h3>checking all the columns</h3>"
   ]
  },
  {
   "cell_type": "code",
   "execution_count": 59,
   "id": "e6cb9a2e-faa9-4f84-a581-9eb39536ba35",
   "metadata": {},
   "outputs": [
    {
     "data": {
      "text/plain": [
       "Index(['id', 'name', 'host_id', 'host_name', 'neighbourhood_group',\n",
       "       'neighbourhood', 'latitude', 'longitude', 'room_type', 'price',\n",
       "       'minimum_nights', 'number_of_reviews', 'last_review',\n",
       "       'reviews_per_month', 'calculated_host_listings_count',\n",
       "       'availability_365', 'name_translate'],\n",
       "      dtype='object')"
      ]
     },
     "execution_count": 59,
     "metadata": {},
     "output_type": "execute_result"
    }
   ],
   "source": [
    "airbnb_df.columns"
   ]
  },
  {
   "cell_type": "code",
   "execution_count": 60,
   "id": "8c54bde1-3db5-4524-b307-7415bb753fcd",
   "metadata": {},
   "outputs": [
    {
     "data": {
      "text/plain": [
       "48895"
      ]
     },
     "execution_count": 60,
     "metadata": {},
     "output_type": "execute_result"
    }
   ],
   "source": [
    "airbnb_df['id'].nunique()"
   ]
  },
  {
   "cell_type": "code",
   "execution_count": 61,
   "id": "129e0cc5-3c82-4021-8cf3-c27a3792f925",
   "metadata": {},
   "outputs": [
    {
     "data": {
      "text/plain": [
       "47900"
      ]
     },
     "execution_count": 61,
     "metadata": {},
     "output_type": "execute_result"
    }
   ],
   "source": [
    "airbnb_df['name_translate'].nunique()"
   ]
  },
  {
   "cell_type": "code",
   "execution_count": 62,
   "id": "b3a5283b-3c50-4ce6-bf0b-032b81c35d91",
   "metadata": {},
   "outputs": [
    {
     "data": {
      "text/plain": [
       "37457"
      ]
     },
     "execution_count": 62,
     "metadata": {},
     "output_type": "execute_result"
    }
   ],
   "source": [
    "airbnb_df['host_id'].nunique()"
   ]
  },
  {
   "cell_type": "code",
   "execution_count": 63,
   "id": "d2498203-f1a0-4bc0-a81a-4da8396f969a",
   "metadata": {},
   "outputs": [
    {
     "data": {
      "text/plain": [
       "11453"
      ]
     },
     "execution_count": 63,
     "metadata": {},
     "output_type": "execute_result"
    }
   ],
   "source": [
    "airbnb_df['host_name'].nunique()"
   ]
  },
  {
   "cell_type": "code",
   "execution_count": 64,
   "id": "acb3ff92-16ab-4581-b6e0-6f55bceb2f82",
   "metadata": {},
   "outputs": [
    {
     "name": "stdout",
     "output_type": "stream",
     "text": [
      "5\n",
      "['Brooklyn' 'Manhattan' 'Queens' 'Staten Island' 'Bronx']\n"
     ]
    }
   ],
   "source": [
    "print(airbnb_df['neighbourhood_group'].nunique())\n",
    "print(airbnb_df['neighbourhood_group'].unique())"
   ]
  },
  {
   "cell_type": "code",
   "execution_count": 65,
   "id": "2150239a-e2fe-4a3b-ac05-efd83c835f94",
   "metadata": {},
   "outputs": [
    {
     "name": "stdout",
     "output_type": "stream",
     "text": [
      "221\n"
     ]
    }
   ],
   "source": [
    "print(airbnb_df['neighbourhood'].nunique())"
   ]
  },
  {
   "cell_type": "code",
   "execution_count": 66,
   "id": "a3025a3b-ebe7-45b1-8d1e-7e0d5891444b",
   "metadata": {},
   "outputs": [
    {
     "data": {
      "text/plain": [
       "19048"
      ]
     },
     "execution_count": 66,
     "metadata": {},
     "output_type": "execute_result"
    }
   ],
   "source": [
    "airbnb_df['latitude'].nunique()"
   ]
  },
  {
   "cell_type": "code",
   "execution_count": 67,
   "id": "2220a202-0be5-497a-9067-96a4b75b0383",
   "metadata": {},
   "outputs": [
    {
     "data": {
      "text/plain": [
       "14718"
      ]
     },
     "execution_count": 67,
     "metadata": {},
     "output_type": "execute_result"
    }
   ],
   "source": [
    "airbnb_df['longitude'].nunique()"
   ]
  },
  {
   "cell_type": "code",
   "execution_count": 68,
   "id": "a2725aa8-109f-4862-884e-05c4acb119c3",
   "metadata": {},
   "outputs": [
    {
     "name": "stdout",
     "output_type": "stream",
     "text": [
      "3\n",
      "['Private room' 'Entire home/apt' 'Shared room']\n"
     ]
    }
   ],
   "source": [
    "print(airbnb_df['room_type'].nunique())\n",
    "print(airbnb_df['room_type'].unique())"
   ]
  },
  {
   "cell_type": "code",
   "execution_count": 69,
   "id": "44c580c2-d2dc-4f56-b3ad-34860208b528",
   "metadata": {},
   "outputs": [
    {
     "data": {
      "text/plain": [
       "394"
      ]
     },
     "execution_count": 69,
     "metadata": {},
     "output_type": "execute_result"
    }
   ],
   "source": [
    "airbnb_df['number_of_reviews'].nunique()"
   ]
  },
  {
   "cell_type": "code",
   "execution_count": 70,
   "id": "5e96282a-b58f-4479-9f0d-2141ba9aecd3",
   "metadata": {},
   "outputs": [
    {
     "data": {
      "text/plain": [
       "1765"
      ]
     },
     "execution_count": 70,
     "metadata": {},
     "output_type": "execute_result"
    }
   ],
   "source": [
    "airbnb_df['last_review'].nunique()"
   ]
  },
  {
   "cell_type": "code",
   "execution_count": 71,
   "id": "54069eb1-a7e9-49eb-b7fe-5221a5bc1f23",
   "metadata": {},
   "outputs": [
    {
     "data": {
      "text/plain": [
       "938"
      ]
     },
     "execution_count": 71,
     "metadata": {},
     "output_type": "execute_result"
    }
   ],
   "source": [
    "airbnb_df['reviews_per_month'].nunique()"
   ]
  },
  {
   "cell_type": "code",
   "execution_count": 72,
   "id": "273d5017-8f8a-4a5a-98c1-c8f68e194ff2",
   "metadata": {},
   "outputs": [
    {
     "data": {
      "text/plain": [
       "47"
      ]
     },
     "execution_count": 72,
     "metadata": {},
     "output_type": "execute_result"
    }
   ],
   "source": [
    "airbnb_df['calculated_host_listings_count'].nunique()"
   ]
  },
  {
   "cell_type": "code",
   "execution_count": 122,
   "id": "bc27933d-915d-4a71-a34a-90f3ecc05738",
   "metadata": {},
   "outputs": [
    {
     "data": {
      "text/plain": [
       "366"
      ]
     },
     "execution_count": 122,
     "metadata": {},
     "output_type": "execute_result"
    }
   ],
   "source": [
    "airbnb_df['availability_365'].nunique()"
   ]
  },
  {
   "cell_type": "markdown",
   "id": "31a87afd-2268-4bcb-910e-c943c42d7bbc",
   "metadata": {},
   "source": [
    "<h3>Cleaning of the data is done</h3>"
   ]
  },
  {
   "cell_type": "markdown",
   "id": "c00f6c06-2625-4ada-82bb-d375293665b8",
   "metadata": {},
   "source": [
    "<h2>  Step 3.Load data to MySQL for Analysis.</h2>"
   ]
  },
  {
   "cell_type": "code",
   "execution_count": 126,
   "id": "9f687428-0149-4c0f-bfc6-532db280349b",
   "metadata": {},
   "outputs": [
    {
     "name": "stdout",
     "output_type": "stream",
     "text": [
      "✅ Successfully connected to MySQL!\n",
      "✅ Data successfully copied to table 'airbnb_table' in database 'airbnb'!\n",
      "🔌 Connection closed.\n"
     ]
    }
   ],
   "source": [
    "#. Establish Connection to MySQL\n",
    "db_host = \"127.0.0.1:3306\" \n",
    "\n",
    "db_name = \"airbnb\"\n",
    "table_name = \"airbnb_table\"\n",
    "db_user = \"root\"\n",
    "try:\n",
    "    # Create an engine without user and password\n",
    "    engine = create_engine(f\"mysql+pymysql://{db_user}@{db_host}/{db_name}\")\n",
    "# Test the connection\n",
    "    with engine.connect() as connection:\n",
    "        print(\"✅ Successfully connected to MySQL!\")\n",
    "\n",
    "\n",
    "    #Copy DataFrame to MySQL\n",
    "    airbnb_df.to_sql(name=table_name, con=engine, if_exists=\"append\", index=False)\n",
    "    print(f\"✅ Data successfully copied to table '{table_name}' in database '{db_name}'!\")\n",
    "except Exception as e:\n",
    "    print(f\"❌ Error: {e}\")\n",
    "\n",
    "finally:\n",
    "    engine.dispose()\n",
    "    print(\"🔌 Connection closed.\")"
   ]
  },
  {
   "cell_type": "markdown",
   "id": "f9982900-ce3b-425e-91a6-ccae872b7873",
   "metadata": {},
   "source": [
    "<h3>In this notebook:\n",
    "\n",
    "* Successfully downloaded the dataset from Kaggle.\n",
    "\n",
    "* Cleaned and processed the data:\n",
    "\n",
    "    - Handled missing values\n",
    "\n",
    "    - Converted non-English characters to English\n",
    "\n",
    "* Loaded the data into MySQL for analysis using Python<h3>"
   ]
  },
  {
   "cell_type": "code",
   "execution_count": null,
   "id": "f9efdbb8-95ab-4da8-9bf7-b22488a28c92",
   "metadata": {},
   "outputs": [],
   "source": []
  }
 ],
 "metadata": {
  "kernelspec": {
   "display_name": "Python [conda env:base] *",
   "language": "python",
   "name": "conda-base-py"
  },
  "language_info": {
   "codemirror_mode": {
    "name": "ipython",
    "version": 3
   },
   "file_extension": ".py",
   "mimetype": "text/x-python",
   "name": "python",
   "nbconvert_exporter": "python",
   "pygments_lexer": "ipython3",
   "version": "3.12.7"
  }
 },
 "nbformat": 4,
 "nbformat_minor": 5
}
